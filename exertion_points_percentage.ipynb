{
 "cells": [
  {
   "cell_type": "code",
   "execution_count": 1,
   "metadata": {},
   "outputs": [],
   "source": [
    "import pandas as pd\n",
    "import os\n",
    "import seaborn as sns\n",
    "from datetime import * \n",
    "from functools import reduce\n",
    "from sklearn.linear_model import LinearRegression\n",
    "from scipy.stats import f_oneway\n",
    "import matplotlib.pyplot as plt\n",
    "import streamlit as st"
   ]
  },
  {
   "cell_type": "code",
   "execution_count": null,
   "metadata": {},
   "outputs": [],
   "source": [
    "#Path불러오기 \n",
    "folder_path = os.path.join(\"./output_data/\")\n",
    "daily_sema = pd.read_csv(f'{folder_path}'+'daily_fitbit_sema_df_unprocessed.csv')\n",
    "hourly_sema = pd.read_csv(f'{folder_path}'+'hourly_fitbit_sema_df_unprocessed.csv')\n",
    "breq = pd.read_csv(f'{folder_path}'+'breq.csv')\n",
    "panas = pd.read_csv(f'{folder_path}'+'panas.csv')\n",
    "personality = pd.read_csv(f'{folder_path}'+'personality.csv')\n",
    "stai = pd.read_csv(f'{folder_path}'+'stai.csv')\n",
    "ttm = pd.read_csv(f'{folder_path}'+'ttm.csv')"
   ]
  },
  {
   "cell_type": "code",
   "execution_count": 3,
   "metadata": {},
   "outputs": [
    {
     "name": "stderr",
     "output_type": "stream",
     "text": [
      "2024-05-13 10:52:04.934 \n",
      "  \u001b[33m\u001b[1mWarning:\u001b[0m to view this Streamlit app on a browser, run it with the following\n",
      "  command:\n",
      "\n",
      "    streamlit run C:\\Users\\user\\AppData\\Roaming\\Python\\Python312\\site-packages\\ipykernel_launcher.py [ARGUMENTS]\n"
     ]
    },
    {
     "data": {
      "text/plain": [
       "DeltaGenerator()"
      ]
     },
     "execution_count": 3,
     "metadata": {},
     "output_type": "execute_result"
    }
   ],
   "source": [
    "# ###모든 글자는 st.markdown(\n",
    "#     \"<h2 style='text-align: center;'>스트레스 관리와 수면의 질, 활동과의 상관관계</h2>\"\n",
    "#     \"<h3 style='text-align: center;'>Top10 heatmap</h3>\", \n",
    "#     unsafe_allow_html=True\n",
    "# )###로 표현했음 \n",
    "st.markdown(\n",
    "    \"<h1 style='text-align: center;'>Kaggle Fitbit Sleep EDA Project</h1>\", \n",
    "    unsafe_allow_html=True\n",
    ")"
   ]
  },
  {
   "cell_type": "code",
   "execution_count": 4,
   "metadata": {},
   "outputs": [
    {
     "data": {
      "image/png": "[encoded data removed]",
      "text/plain": [
       "<Figure size 800x600 with 1 Axes>"
      ]
     },
     "metadata": {},
     "output_type": "display_data"
    },
    {
     "data": {
      "text/plain": [
       "DeltaGenerator()"
      ]
     },
     "execution_count": 4,
     "metadata": {},
     "output_type": "execute_result"
    },
    {
     "data": {
      "text/plain": [
       "<Figure size 640x480 with 0 Axes>"
      ]
     },
     "metadata": {},
     "output_type": "display_data"
    }
   ],
   "source": [
    "gender_counts = personality['gender'].value_counts()\n",
    "st.markdown(\n",
    "    \"<h3 style='text-align: center;'>Sex Difference</h3>\", \n",
    "    unsafe_allow_html=True\n",
    ")\n",
    "plt.figure(figsize=(8, 6))\n",
    "gender_counts.plot(kind='bar', color=['red', 'blue'])\n",
    "plt.xlabel('Gender')\n",
    "plt.ylabel('Count')\n",
    "plt.title('Gender Distribution in Personality Data')\n",
    "plt.xticks(rotation=0)\n",
    "plt.show()\n",
    "st.pyplot(plt)"
   ]
  },
  {
   "cell_type": "code",
   "execution_count": null,
   "metadata": {},
   "outputs": [],
   "source": [
    "numeric_columns = daily_sema.select_dtypes(include=['float64', 'int64'])\n",
    "correlation_matrix = numeric_columns.corr()\n",
    "st.markdown(\n",
    "    \"<h2 style='text-align: center;'>스트레스 관리와 수면의 질, 활동과의 상관관계</h2>\"\n",
    "    \"<h3 style='text-align: center;'>Top10 heatmap</h3>\", \n",
    "    unsafe_allow_html=True\n",
    ")\n",
    "st.markdown(\"\"\"\n",
    "이 그래프는 가장 상관관계가 높은 상위 10개의 열을 선택하여 히트맵을 그렸습니다. \n",
    "            이를 통해 스트레스 관리 능력과 활동, 수면 간의 연결성을 짐작해볼 수 있습니다.\n",
    "\"\"\")\n",
    "# 가장 상관관계가 높은 상위 10개의 열 찾기\n",
    "top_correlation_columns = correlation_matrix.abs().stack().nlargest(10).index\n",
    "top_correlation_matrix = correlation_matrix.loc[top_correlation_columns.get_level_values(0), top_correlation_columns.get_level_values(1)]\n",
    "\n",
    "# 히트맵 그리기\n",
    "fig, ax = plt.subplots(figsize=(10, 8))\n",
    "sns.heatmap(top_correlation_matrix, annot=True, cmap='coolwarm', fmt=\".2f\", ax=ax)\n",
    "plt.title('Top 10 Correlation Heatmap (for numeric columns)')\n",
    "st.pyplot(fig)"
   ]
  },
  {
   "cell_type": "code",
   "execution_count": null,
   "metadata": {},
   "outputs": [],
   "source": [
    "st.markdown(\n",
    "    \"<h2 style='text-align: center;'>스트레스 관리능력과 수면의 관계</h2>\"\n",
    "    \"<h3 style='text-align: center;'>stress_score와 sleep_points_percentage의 관계</h3>\", \n",
    "    unsafe_allow_html=True\n",
    ")\n",
    "# 그래프 크기 지정\n",
    "fig, ax = plt.subplots(figsize=(10, 6))\n",
    "\n",
    "# stress_score가 60보다 큰 subset 데이터 생성\n",
    "subset_data = daily_sema[daily_sema['stress_score'] > 60]\n",
    "subset_data['sleep_points_scaled'] = subset_data['sleep_points_percentage'] * 100\n",
    "\n",
    "# 회귀선 그리기\n",
    "sns.regplot(x='stress_score', y='sleep_points_scaled', data=subset_data, line_kws={\"color\": \"red\"})\n",
    "\n",
    "# 선형 회귀 모델 학습\n",
    "X = subset_data[['stress_score']]\n",
    "y = subset_data['sleep_points_scaled']\n",
    "model = LinearRegression()\n",
    "model.fit(X, y)\n",
    "\n",
    "# 회귀선 그리기\n",
    "ax.plot(X, model.predict(X), color='red', label=f'Regression Line (Coefficient: {model.coef_[0]:.2f})')\n",
    "ax.legend(loc='lower left')\n",
    "ax.set_xlabel('Stress Score')\n",
    "ax.set_ylabel('sleep_points_percentage')\n",
    "ax.set_title('Stress Score vs. sleep_points_percentage (Stress Score > 60)')\n",
    "\n",
    "# 스트림릿에 그래프 출력\n",
    "st.pyplot(fig)"
   ]
  }
 ],
 "metadata": {
  "kernelspec": {
   "display_name": "Python 3",
   "language": "python",
   "name": "python3"
  },
  "language_info": {
   "codemirror_mode": {
    "name": "ipython",
    "version": 3
   },
   "file_extension": ".py",
   "mimetype": "text/x-python",
   "name": "python",
   "nbconvert_exporter": "python",
   "pygments_lexer": "ipython3",
   "version": "3.12.3"
  }
 },
 "nbformat": 4,
 "nbformat_minor": 2
}
